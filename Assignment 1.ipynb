{
 "cells": [
  {
   "cell_type": "raw",
   "id": "2d08f12d",
   "metadata": {},
   "source": [
    "---\n",
    "title: \"Assignment A\"\n",
    "format: \n",
    "  html:\n",
    "    toc: true\n",
    "    toc-title: Contents\n",
    "    toc-depth: 4\n",
    "    code-fold: show\n",
    "    self-contained: true\n",
    "jupyter: python3\n",
    "---"
   ]
  },
  {
   "cell_type": "markdown",
   "id": "6efe6ec7",
   "metadata": {},
   "source": [
    "## Instructions {-}\n",
    "\n",
    "1. You may talk to a friend, discuss the questions and potential directions for solving them. However, you need to write your own solutions and code separately, and not as a group activity. \n",
    "\n",
    "2. Do not write your name on the assignment.\n",
    "\n",
    "3. Write your code in the *Code* cells and your answer in the *Markdown* cells of the Jupyter notebook. Ensure that the solution is written neatly enough to understand and grade.\n",
    "\n",
    "4. Use [Quarto](https://quarto.org/docs/output-formats/html-basics.html) to print the *.ipynb* file as HTML. You will need to open the command prompt, navigate to the directory containing the file, and use the command: `quarto render filename.ipynb --to html`. Submit the HTML file.\n",
    "\n",
    "5. The assignment is worth 100 points, and is due on **Tuesday, 17th January 2022 at 11:59 pm**. \n",
    "\n",
    "6. There is a **bonus** question worth 5 points.\n",
    "\n",
    "7. **Five points are for properly formatting the assignment**. The breakdown is as follows:\n",
    "- Must be an HTML file rendered using Quarto (1 pt); *If you have a Quarto issue, you must mention the issue & quote the error you get when rendering using Quarto in the comments section of Canvas, and submit the ipynb file.* \n",
    "- No name can be written on the assignment, nor can there be any indicator of the student’s identity—e.g., printouts of the working directory should not be included in the final submission  (1 pt).\n",
    "- There aren’t excessively long outputs of extraneous information (e.g. no printouts of entire data frames without good reason, there aren’t long printouts of which iteration a loop is on, there aren’t long sections of commented-out code, etc.) (1 pt).\n",
    "- Final answers of each question are written in Markdown cells (1 pt).\n",
    "- There is no piece of unnecessary / redundant code, and no unnecessary / redundant text (1 pt).\n",
    "\n",
    "8.  The maximum possible score in the assigment is 95 + 5 (formatting) + 5 (bonus question) = 105 out of 100. There is no partial credit for the bonus question."
   ]
  },
  {
   "cell_type": "markdown",
   "id": "93d691ac",
   "metadata": {},
   "source": [
    "## Regression vs Classification; Prediction vs Inference"
   ]
  },
  {
   "cell_type": "markdown",
   "id": "76ef6e03",
   "metadata": {},
   "source": [
    "Explain (1) whether each scenario is a classification or regression problem, and (2) whether we are most interested in inference or prediction. Answers to both parts must be supported by a justification."
   ]
  },
  {
   "cell_type": "markdown",
   "id": "659b081f",
   "metadata": {},
   "source": [
    "### \n",
    "Consider a company that is interested in conducting a marketing campaign. The goal is to identify individuals who are likely to respond positively to a marketing campaign, based on observations of demographic variables *(such as age, gender, income, etc.)* measured on each individual. \n",
    "\n",
    "*(2+2 points)*"
   ]
  },
  {
   "cell_type": "markdown",
   "id": "6dae68f4",
   "metadata": {},
   "source": [
    "This is a classification problem because the objective is to sort individuals into two \"classes\" or categories: individuals who are likely to respond positively and individuals who are not. This is a prediction problem because the focus is solely on identifying which people respond positively and not on how the demographic variables or other factors impact their response. "
   ]
  },
  {
   "cell_type": "markdown",
   "id": "87243d10",
   "metadata": {},
   "source": [
    "### \n",
    "Consider that the company mentioned in the previous question is interested in understanding the impact of advertising promotions in different media types on the company sales. For example, the company is interested in the question, *'how large of an increase in sales is associated with a given increase in radio vis-a-vis TV advertising?'*\n",
    "\n",
    "*(2+2 points)*"
   ]
  },
  {
   "cell_type": "markdown",
   "id": "d42694e5",
   "metadata": {},
   "source": [
    "This is a regression problem because the response variable (company sales) is a continuous variable. We are most interested in inference because the question cares about identifying the relationship between predictors (radio and TV advertising) and the response variable."
   ]
  },
  {
   "cell_type": "markdown",
   "id": "daea437c",
   "metadata": {},
   "source": [
    "### \n",
    "Consider a company selling furniture is interested in the finding the association between demographic characterisitcs of customers (such as age, gender, income, etc.) and their probability of purchase of a particular company product.\n",
    "\n",
    "*(2+2 points)*"
   ]
  },
  {
   "cell_type": "markdown",
   "id": "58620424",
   "metadata": {},
   "source": [
    "This is a classification problem because the response variable is a customer's probability of purchase (whether they will buy the product or not buy the product) so it is categorical. We care about inference in this problem because the company wants to find the association between predictors (demographic characteristics) and the response variable."
   ]
  },
  {
   "cell_type": "markdown",
   "id": "30aee047",
   "metadata": {},
   "source": [
    "### \n",
    "We are interested in predicting the % change in the USD/Euro exchange rate in relation to the weekly changes in the world\n",
    "stock markets. Hence we collect weekly data for all of 2022. For each week we record the % change in the USD/Euro, the %\n",
    "change in the US market, the % change in the British market, and the % change in the German market.\n",
    "\n",
    "*(2+2 points)*"
   ]
  },
  {
   "cell_type": "markdown",
   "id": "63bebd37",
   "metadata": {},
   "source": [
    "This is a regression problem because the response variable, % change in the USD/Euro exchange rate, is continuous. It is also an inference problem because it cares about how the response variable changes based on the predictors (weekly changes in the world stock markets)."
   ]
  },
  {
   "cell_type": "markdown",
   "id": "fc077572",
   "metadata": {},
   "source": [
    "## RMSE vs MAE"
   ]
  },
  {
   "cell_type": "markdown",
   "id": "d93c431a",
   "metadata": {},
   "source": [
    "### \n",
    "Describe a regression problem, where it will be more appropriate to assess the model accuracy using the root mean squared error (RMSE) metric as compared to the mean absolute error (MAE) metric.\n",
    "\n",
    "**Note:** Don't use the examples presented in class\n",
    "\n",
    "*(4 points)*"
   ]
  },
  {
   "cell_type": "markdown",
   "id": "fb17aac9",
   "metadata": {},
   "source": [
    "One situation where it is more appropriate to use RMSE than MAE to assess model accuracy is when predicting the length (time) of your commute based on variables like time of day and mode of transportation. RMSE is more appropriate because in this scenario you would want to penalize large errors more than smaller errors. You would want your model to reflect how being 30 minutes late is a lot worse than being 5 or 10 minutes late."
   ]
  },
  {
   "cell_type": "markdown",
   "id": "541a43e9",
   "metadata": {},
   "source": [
    "### \n",
    "Describe a regression problem, where it will be more appropriate to assess the model accuracy using the mean absolute error (MAE) metric as compared to the root mean squared error (RMSE) metric.\n",
    "\n",
    "**Note:** Don't use the examples presented in class\n",
    "\n",
    "*(4 points)*"
   ]
  },
  {
   "cell_type": "markdown",
   "id": "a4be3e4c",
   "metadata": {},
   "source": [
    "One situation where it is more appropriate to use MAE than RMSE is when predicting the number of defective car parts a factory will produce based on variables like machine age and calendar month. MAE is more appropriate because in this scenario the factory would want to minimize overall errors rather than large errors."
   ]
  },
  {
   "cell_type": "markdown",
   "id": "5bea5b7d",
   "metadata": {},
   "source": [
    "## FNR vs FPR"
   ]
  },
  {
   "cell_type": "markdown",
   "id": "eeae1d75",
   "metadata": {},
   "source": [
    "### \n",
    "A classification model is developed to predict those customers who will respond positively to a company's tele-marketing campaign. All those customers that are predicted to respond positively to the campaign will be called by phone to buy the product being marketed. If the customer being called purchases the product ($y = 1$), the company will get a profit of \\$100. On the other hand, if they are called and they don't purchase ($y = 0$), the company will have a loss of \\$1. Among FPR (False positive rate) and FNR (False negative rate), which metric is more important to be minimized to reduce the loss associated with misclassification? Justify your answer. \n",
    "\n",
    "In your justification, you must clearly interpret False Negatives (FN) and False Postives (FP) first.\n",
    "\n",
    "**Assumption:** Assume that based on the past marketing campaigns, around 50% of the customers will actually respond positively to the campaign.\n",
    "\n",
    "*(4 points)*"
   ]
  },
  {
   "cell_type": "markdown",
   "id": "952ada2c",
   "metadata": {},
   "source": [
    "It is more important to minimize FPR to reduce the loss associated with misclassification. In the scenario, a false positive would consist of predicting that a customer will respond positively to a campaign when in reality they do not respond positively. A false negative would consist of predicting that a customer would not respond positively when in reality they would (you miss out on a potential purchase). It is important to minimize FPR because false positives guarantee a loss of $1 since these customers don't actually respond positively to the campaign and are therefore not likely to purchase. Meanwhile, true positives at least have some likelihood of purchasing the product being marketed because they do respond positively to the campaign."
   ]
  },
  {
   "cell_type": "markdown",
   "id": "eabe8f27",
   "metadata": {},
   "source": [
    "### \n",
    "Can the answer to the previous question change if the assumption stated in the question is false? Justify your answer.\n",
    "\n",
    "*(6 points)*"
   ]
  },
  {
   "cell_type": "markdown",
   "id": "0e511793",
   "metadata": {},
   "source": [
    "If the assumption is false and a lot less than 50% of customers actually respond positively, it could be more important to minimize FNR because at that point, there are so few customers who actually care about the product that you cannot afford to miss calling a customer who actually could be interested. "
   ]
  },
  {
   "cell_type": "markdown",
   "id": "4393cced-a26a-47a9-a23d-cba029eeaf27",
   "metadata": {},
   "source": [
    "## Petrol consumption\n",
    "\n",
    "Read the dataset *petrol_consumption_train.csv*. It contains the following five columns: \n",
    "\n",
    "`Petrol_tax`: Petrol tax (cents per gallon) \n",
    "\n",
    "`Per_capita_income`: Average income (dollars) \n",
    "\n",
    "`Paved_highways`: Paved Highways (miles) \n",
    "\n",
    "`Prop_license`: Proportion of population with driver's licenses \n",
    "\n",
    "`Petrol_consumption`: Consumption of petrol (millions of gallons)"
   ]
  },
  {
   "cell_type": "code",
   "execution_count": 3,
   "id": "ab22d282",
   "metadata": {},
   "outputs": [
    {
     "data": {
      "text/html": [
       "<div>\n",
       "<style scoped>\n",
       "    .dataframe tbody tr th:only-of-type {\n",
       "        vertical-align: middle;\n",
       "    }\n",
       "\n",
       "    .dataframe tbody tr th {\n",
       "        vertical-align: top;\n",
       "    }\n",
       "\n",
       "    .dataframe thead th {\n",
       "        text-align: right;\n",
       "    }\n",
       "</style>\n",
       "<table border=\"1\" class=\"dataframe\">\n",
       "  <thead>\n",
       "    <tr style=\"text-align: right;\">\n",
       "      <th></th>\n",
       "      <th>Petrol_tax</th>\n",
       "      <th>Per_capita_income</th>\n",
       "      <th>Paved_highways</th>\n",
       "      <th>Prop_license</th>\n",
       "      <th>Petrol_consumption</th>\n",
       "    </tr>\n",
       "  </thead>\n",
       "  <tbody>\n",
       "    <tr>\n",
       "      <th>0</th>\n",
       "      <td>9.0</td>\n",
       "      <td>3571</td>\n",
       "      <td>1976</td>\n",
       "      <td>0.525</td>\n",
       "      <td>541</td>\n",
       "    </tr>\n",
       "    <tr>\n",
       "      <th>1</th>\n",
       "      <td>9.0</td>\n",
       "      <td>4092</td>\n",
       "      <td>1250</td>\n",
       "      <td>0.572</td>\n",
       "      <td>524</td>\n",
       "    </tr>\n",
       "    <tr>\n",
       "      <th>2</th>\n",
       "      <td>9.0</td>\n",
       "      <td>3865</td>\n",
       "      <td>1586</td>\n",
       "      <td>0.580</td>\n",
       "      <td>561</td>\n",
       "    </tr>\n",
       "    <tr>\n",
       "      <th>3</th>\n",
       "      <td>7.5</td>\n",
       "      <td>4870</td>\n",
       "      <td>2351</td>\n",
       "      <td>0.529</td>\n",
       "      <td>414</td>\n",
       "    </tr>\n",
       "    <tr>\n",
       "      <th>4</th>\n",
       "      <td>8.0</td>\n",
       "      <td>4399</td>\n",
       "      <td>431</td>\n",
       "      <td>0.544</td>\n",
       "      <td>410</td>\n",
       "    </tr>\n",
       "  </tbody>\n",
       "</table>\n",
       "</div>"
      ],
      "text/plain": [
       "   Petrol_tax  Per_capita_income  Paved_highways  Prop_license  \\\n",
       "0         9.0               3571            1976         0.525   \n",
       "1         9.0               4092            1250         0.572   \n",
       "2         9.0               3865            1586         0.580   \n",
       "3         7.5               4870            2351         0.529   \n",
       "4         8.0               4399             431         0.544   \n",
       "\n",
       "   Petrol_consumption  \n",
       "0                 541  \n",
       "1                 524  \n",
       "2                 561  \n",
       "3                 414  \n",
       "4                 410  "
      ]
     },
     "execution_count": 3,
     "metadata": {},
     "output_type": "execute_result"
    }
   ],
   "source": [
    "#importing libraries\n",
    "import pandas as pd\n",
    "import seaborn as sns\n",
    "import numpy as np\n",
    "import statsmodels.formula.api as smf\n",
    "import matplotlib.pyplot as plt\n",
    "\n",
    "#reading in data and printing head\n",
    "petrol = pd.read_csv('petrol_consumption_train.csv')\n",
    "petrol.head()"
   ]
  },
  {
   "cell_type": "markdown",
   "id": "2270390b-eb12-458d-a5fd-68a0b13be9bc",
   "metadata": {},
   "source": [
    "### \n",
    "Make a pairwise plot of all the variables in the dataset. Which variable seems to have the highest linear correlation with `Petrol_consumption`? Let this variable be predictor *P*. *Note: If you cannot figure out P by looking at the visualization, you may find the pairwise linear correlation coefficient to identify P.*\n",
    "\n",
    "*(4 points)*"
   ]
  },
  {
   "cell_type": "code",
   "execution_count": 4,
   "id": "4c90d961",
   "metadata": {},
   "outputs": [
    {
     "data": {
      "text/plain": [
       "<seaborn.axisgrid.PairGrid at 0x7fbf149d3e50>"
      ]
     },
     "execution_count": 4,
     "metadata": {},
     "output_type": "execute_result"
    },
    {
     "data": {
      "image/png": "[encoded data removed]",
      "text/plain": [
       "<Figure size 1250x1250 with 30 Axes>"
      ]
     },
     "metadata": {},
     "output_type": "display_data"
    }
   ],
   "source": [
    "#creating pairwise plot\n",
    "sns.pairplot(data = petrol)"
   ]
  },
  {
   "cell_type": "code",
   "execution_count": 5,
   "id": "73ccfd12",
   "metadata": {},
   "outputs": [
    {
     "data": {
      "text/html": [
       "<div>\n",
       "<style scoped>\n",
       "    .dataframe tbody tr th:only-of-type {\n",
       "        vertical-align: middle;\n",
       "    }\n",
       "\n",
       "    .dataframe tbody tr th {\n",
       "        vertical-align: top;\n",
       "    }\n",
       "\n",
       "    .dataframe thead th {\n",
       "        text-align: right;\n",
       "    }\n",
       "</style>\n",
       "<table border=\"1\" class=\"dataframe\">\n",
       "  <thead>\n",
       "    <tr style=\"text-align: right;\">\n",
       "      <th></th>\n",
       "      <th>Petrol_tax</th>\n",
       "      <th>Per_capita_income</th>\n",
       "      <th>Paved_highways</th>\n",
       "      <th>Prop_license</th>\n",
       "      <th>Petrol_consumption</th>\n",
       "    </tr>\n",
       "  </thead>\n",
       "  <tbody>\n",
       "    <tr>\n",
       "      <th>Petrol_tax</th>\n",
       "      <td>1.000000</td>\n",
       "      <td>0.082359</td>\n",
       "      <td>-0.660022</td>\n",
       "      <td>-0.223920</td>\n",
       "      <td>-0.393415</td>\n",
       "    </tr>\n",
       "    <tr>\n",
       "      <th>Per_capita_income</th>\n",
       "      <td>0.082359</td>\n",
       "      <td>1.000000</td>\n",
       "      <td>0.040256</td>\n",
       "      <td>0.048153</td>\n",
       "      <td>-0.314039</td>\n",
       "    </tr>\n",
       "    <tr>\n",
       "      <th>Paved_highways</th>\n",
       "      <td>-0.660022</td>\n",
       "      <td>0.040256</td>\n",
       "      <td>1.000000</td>\n",
       "      <td>-0.037998</td>\n",
       "      <td>0.098117</td>\n",
       "    </tr>\n",
       "    <tr>\n",
       "      <th>Prop_license</th>\n",
       "      <td>-0.223920</td>\n",
       "      <td>0.048153</td>\n",
       "      <td>-0.037998</td>\n",
       "      <td>1.000000</td>\n",
       "      <td>0.718303</td>\n",
       "    </tr>\n",
       "    <tr>\n",
       "      <th>Petrol_consumption</th>\n",
       "      <td>-0.393415</td>\n",
       "      <td>-0.314039</td>\n",
       "      <td>0.098117</td>\n",
       "      <td>0.718303</td>\n",
       "      <td>1.000000</td>\n",
       "    </tr>\n",
       "  </tbody>\n",
       "</table>\n",
       "</div>"
      ],
      "text/plain": [
       "                    Petrol_tax  Per_capita_income  Paved_highways  \\\n",
       "Petrol_tax            1.000000           0.082359       -0.660022   \n",
       "Per_capita_income     0.082359           1.000000        0.040256   \n",
       "Paved_highways       -0.660022           0.040256        1.000000   \n",
       "Prop_license         -0.223920           0.048153       -0.037998   \n",
       "Petrol_consumption   -0.393415          -0.314039        0.098117   \n",
       "\n",
       "                    Prop_license  Petrol_consumption  \n",
       "Petrol_tax             -0.223920           -0.393415  \n",
       "Per_capita_income       0.048153           -0.314039  \n",
       "Paved_highways         -0.037998            0.098117  \n",
       "Prop_license            1.000000            0.718303  \n",
       "Petrol_consumption      0.718303            1.000000  "
      ]
     },
     "execution_count": 5,
     "metadata": {},
     "output_type": "execute_result"
    }
   ],
   "source": [
    "#verifying correlation\n",
    "petrol.corr()"
   ]
  },
  {
   "cell_type": "markdown",
   "id": "2155814f",
   "metadata": {},
   "source": [
    "Prop_license has the highest linear correlation with Petrol_consumption."
   ]
  },
  {
   "cell_type": "markdown",
   "id": "d9a01ec9",
   "metadata": {},
   "source": [
    "### \n",
    "Fit a simple linear regression model to predict `Petrol_consumption` based on predictor *P* (identified in the previous part). Print the model summary.\n",
    "\n",
    "*(4 points)*"
   ]
  },
  {
   "cell_type": "code",
   "execution_count": 6,
   "id": "e9e70520",
   "metadata": {},
   "outputs": [
    {
     "data": {
      "text/html": [
       "<table class=\"simpletable\">\n",
       "<caption>OLS Regression Results</caption>\n",
       "<tr>\n",
       "  <th>Dep. Variable:</th>    <td>Petrol_consumption</td> <th>  R-squared:         </th> <td>   0.516</td>\n",
       "</tr>\n",
       "<tr>\n",
       "  <th>Model:</th>                    <td>OLS</td>        <th>  Adj. R-squared:    </th> <td>   0.503</td>\n",
       "</tr>\n",
       "<tr>\n",
       "  <th>Method:</th>              <td>Least Squares</td>   <th>  F-statistic:       </th> <td>   40.51</td>\n",
       "</tr>\n",
       "<tr>\n",
       "  <th>Date:</th>              <td>Thu, 19 Jan 2023</td>  <th>  Prob (F-statistic):</th> <td>1.80e-07</td>\n",
       "</tr>\n",
       "<tr>\n",
       "  <th>Time:</th>                  <td>17:44:10</td>      <th>  Log-Likelihood:    </th> <td> -231.59</td>\n",
       "</tr>\n",
       "<tr>\n",
       "  <th>No. Observations:</th>       <td>    40</td>       <th>  AIC:               </th> <td>   467.2</td>\n",
       "</tr>\n",
       "<tr>\n",
       "  <th>Df Residuals:</th>           <td>    38</td>       <th>  BIC:               </th> <td>   470.5</td>\n",
       "</tr>\n",
       "<tr>\n",
       "  <th>Df Model:</th>               <td>     1</td>       <th>                     </th>     <td> </td>   \n",
       "</tr>\n",
       "<tr>\n",
       "  <th>Covariance Type:</th>       <td>nonrobust</td>     <th>                     </th>     <td> </td>   \n",
       "</tr>\n",
       "</table>\n",
       "<table class=\"simpletable\">\n",
       "<tr>\n",
       "        <td></td>          <th>coef</th>     <th>std err</th>      <th>t</th>      <th>P>|t|</th>  <th>[0.025</th>    <th>0.975]</th>  \n",
       "</tr>\n",
       "<tr>\n",
       "  <th>Intercept</th>    <td> -267.6155</td> <td>  132.038</td> <td>   -2.027</td> <td> 0.050</td> <td> -534.912</td> <td>   -0.319</td>\n",
       "</tr>\n",
       "<tr>\n",
       "  <th>Prop_license</th> <td> 1479.1803</td> <td>  232.414</td> <td>    6.364</td> <td> 0.000</td> <td> 1008.682</td> <td> 1949.678</td>\n",
       "</tr>\n",
       "</table>\n",
       "<table class=\"simpletable\">\n",
       "<tr>\n",
       "  <th>Omnibus:</th>       <td> 5.963</td> <th>  Durbin-Watson:     </th> <td>   1.280</td>\n",
       "</tr>\n",
       "<tr>\n",
       "  <th>Prob(Omnibus):</th> <td> 0.051</td> <th>  Jarque-Bera (JB):  </th> <td>   4.620</td>\n",
       "</tr>\n",
       "<tr>\n",
       "  <th>Skew:</th>          <td> 0.762</td> <th>  Prob(JB):          </th> <td>  0.0993</td>\n",
       "</tr>\n",
       "<tr>\n",
       "  <th>Kurtosis:</th>      <td> 3.670</td> <th>  Cond. No.          </th> <td>    23.9</td>\n",
       "</tr>\n",
       "</table><br/><br/>Notes:<br/>[1] Standard Errors assume that the covariance matrix of the errors is correctly specified."
      ],
      "text/plain": [
       "<class 'statsmodels.iolib.summary.Summary'>\n",
       "\"\"\"\n",
       "                            OLS Regression Results                            \n",
       "==============================================================================\n",
       "Dep. Variable:     Petrol_consumption   R-squared:                       0.516\n",
       "Model:                            OLS   Adj. R-squared:                  0.503\n",
       "Method:                 Least Squares   F-statistic:                     40.51\n",
       "Date:                Thu, 19 Jan 2023   Prob (F-statistic):           1.80e-07\n",
       "Time:                        17:44:10   Log-Likelihood:                -231.59\n",
       "No. Observations:                  40   AIC:                             467.2\n",
       "Df Residuals:                      38   BIC:                             470.5\n",
       "Df Model:                           1                                         \n",
       "Covariance Type:            nonrobust                                         \n",
       "================================================================================\n",
       "                   coef    std err          t      P>|t|      [0.025      0.975]\n",
       "--------------------------------------------------------------------------------\n",
       "Intercept     -267.6155    132.038     -2.027      0.050    -534.912      -0.319\n",
       "Prop_license  1479.1803    232.414      6.364      0.000    1008.682    1949.678\n",
       "==============================================================================\n",
       "Omnibus:                        5.963   Durbin-Watson:                   1.280\n",
       "Prob(Omnibus):                  0.051   Jarque-Bera (JB):                4.620\n",
       "Skew:                           0.762   Prob(JB):                       0.0993\n",
       "Kurtosis:                       3.670   Cond. No.                         23.9\n",
       "==============================================================================\n",
       "\n",
       "Notes:\n",
       "[1] Standard Errors assume that the covariance matrix of the errors is correctly specified.\n",
       "\"\"\""
      ]
     },
     "execution_count": 6,
     "metadata": {},
     "output_type": "execute_result"
    }
   ],
   "source": [
    "#creating ols object\n",
    "ols_object = smf.ols(formula = 'Petrol_consumption~Prop_license', data = petrol)\n",
    "\n",
    "#fitting model over data\n",
    "model = ols_object.fit()\n",
    "\n",
    "#printing model summary\n",
    "model.summary()"
   ]
  },
  {
   "cell_type": "markdown",
   "id": "619bdc1b",
   "metadata": {},
   "source": [
    "### \n",
    "Interpret the coefficient of `Prop_license`. What is the increase in petrol consumption for an increase of 0.05 in *P*?\n",
    "\n",
    "*(2+2 points)*"
   ]
  },
  {
   "cell_type": "code",
   "execution_count": 7,
   "id": "e5e2632d",
   "metadata": {},
   "outputs": [
    {
     "name": "stdout",
     "output_type": "stream",
     "text": [
      "73.95901500000001\n"
     ]
    }
   ],
   "source": [
    "#printing petrol consumption for an increase of 0.05 in P\n",
    "print(1479.1803*0.05)"
   ]
  },
  {
   "cell_type": "markdown",
   "id": "c3ff89bf",
   "metadata": {},
   "source": [
    "The coefficient of Prop_license is 1479.1803. This means that for every additional unit of Prop_license, Petrol_consumption increases by 1479.1803 million gallons. Therefore, the increase in petrol consumption for an increase of 0.05 in Prop_license is about 73.95 million gallons."
   ]
  },
  {
   "cell_type": "markdown",
   "id": "aa369a53",
   "metadata": {},
   "source": [
    "### \n",
    "Does petrol consumption have a statistically significant relationship with the predictor *P*? Justify your answer.\n",
    "\n",
    "*(4 points)*"
   ]
  },
  {
   "cell_type": "markdown",
   "id": "59cbbc8d",
   "metadata": {},
   "source": [
    "Given that the p-value of Prop_license is less than 0.05 (it is listed as 0.000), Prop_license has a statistically significant relationship with petrol consumption. "
   ]
  },
  {
   "cell_type": "markdown",
   "id": "e224b584",
   "metadata": {},
   "source": [
    "### \n",
    "What is the R-squared? Interpret its value.\n",
    "\n",
    "*(4 points)*"
   ]
  },
  {
   "cell_type": "markdown",
   "id": "c0f99f69",
   "metadata": {},
   "source": [
    "The R-squared is 0.516, meaning that 51.6% of the variation in petrol consumption can be explained by the relationship between the proportion of the population with a driver's license and petrol consumption."
   ]
  },
  {
   "cell_type": "markdown",
   "id": "571380f8",
   "metadata": {},
   "source": [
    "### \n",
    "Use the model developed above to estimate the petrol consumption for a state in which 50% of the population has a driver’s license. What are the confidence and prediction intervals for your estimate? Which interval includes the irreducible error?\n",
    "\n",
    "*(4+3+3+2 = 12 points)*"
   ]
  },
  {
   "cell_type": "code",
   "execution_count": 8,
   "id": "40fd9e49",
   "metadata": {},
   "outputs": [
    {
     "data": {
      "text/html": [
       "<div>\n",
       "<style scoped>\n",
       "    .dataframe tbody tr th:only-of-type {\n",
       "        vertical-align: middle;\n",
       "    }\n",
       "\n",
       "    .dataframe tbody tr th {\n",
       "        vertical-align: top;\n",
       "    }\n",
       "\n",
       "    .dataframe thead th {\n",
       "        text-align: right;\n",
       "    }\n",
       "</style>\n",
       "<table border=\"1\" class=\"dataframe\">\n",
       "  <thead>\n",
       "    <tr style=\"text-align: right;\">\n",
       "      <th></th>\n",
       "      <th>mean</th>\n",
       "      <th>mean_se</th>\n",
       "      <th>mean_ci_lower</th>\n",
       "      <th>mean_ci_upper</th>\n",
       "      <th>obs_ci_lower</th>\n",
       "      <th>obs_ci_upper</th>\n",
       "    </tr>\n",
       "  </thead>\n",
       "  <tbody>\n",
       "    <tr>\n",
       "      <th>0</th>\n",
       "      <td>471.974627</td>\n",
       "      <td>19.896237</td>\n",
       "      <td>431.6968</td>\n",
       "      <td>512.252454</td>\n",
       "      <td>302.822725</td>\n",
       "      <td>641.126528</td>\n",
       "    </tr>\n",
       "  </tbody>\n",
       "</table>\n",
       "</div>"
      ],
      "text/plain": [
       "         mean    mean_se  mean_ci_lower  mean_ci_upper  obs_ci_lower  \\\n",
       "0  471.974627  19.896237       431.6968     512.252454    302.822725   \n",
       "\n",
       "   obs_ci_upper  \n",
       "0    641.126528  "
      ]
     },
     "execution_count": 8,
     "metadata": {},
     "output_type": "execute_result"
    }
   ],
   "source": [
    "#creating new dataframe for state with 50% prop_license\n",
    "data = [[0.5]]\n",
    "predict_consumption = pd.DataFrame(data = data, columns = ['Prop_license'])\n",
    "\n",
    "#creating intervals for estimateed petrol consumtion and printing\n",
    "intervals = model.get_prediction(predict_consumption)\n",
    "intervals.summary_frame(alpha=0.05)"
   ]
  },
  {
   "cell_type": "markdown",
   "id": "c7ef4874",
   "metadata": {},
   "source": [
    "A state in which 50% of the population has a drivers license consumes an estimated 471.97 million gallons of petrol according to the model above. The 95% confidence interval is about [431.69,512.25] and the 95% prediction interval is about [302.82,641.12]. The prediction interval includes the irreducible error."
   ]
  },
  {
   "cell_type": "markdown",
   "id": "786b15d3",
   "metadata": {},
   "source": [
    "### \n",
    "Use the model developed above to estimate the petrol consumption for a state in which 10% of the population has a driver’s license. Are you getting a reasonable estimate? Why or why not?\n",
    "\n",
    "*(5 points)*"
   ]
  },
  {
   "cell_type": "code",
   "execution_count": 9,
   "id": "3459ff6a",
   "metadata": {},
   "outputs": [
    {
     "data": {
      "text/html": [
       "<div>\n",
       "<style scoped>\n",
       "    .dataframe tbody tr th:only-of-type {\n",
       "        vertical-align: middle;\n",
       "    }\n",
       "\n",
       "    .dataframe tbody tr th {\n",
       "        vertical-align: top;\n",
       "    }\n",
       "\n",
       "    .dataframe thead th {\n",
       "        text-align: right;\n",
       "    }\n",
       "</style>\n",
       "<table border=\"1\" class=\"dataframe\">\n",
       "  <thead>\n",
       "    <tr style=\"text-align: right;\">\n",
       "      <th></th>\n",
       "      <th>mean</th>\n",
       "      <th>mean_se</th>\n",
       "      <th>mean_ci_lower</th>\n",
       "      <th>mean_ci_upper</th>\n",
       "      <th>obs_ci_lower</th>\n",
       "      <th>obs_ci_upper</th>\n",
       "    </tr>\n",
       "  </thead>\n",
       "  <tbody>\n",
       "    <tr>\n",
       "      <th>0</th>\n",
       "      <td>-119.697506</td>\n",
       "      <td>108.929769</td>\n",
       "      <td>-340.214295</td>\n",
       "      <td>100.819283</td>\n",
       "      <td>-394.684264</td>\n",
       "      <td>155.289251</td>\n",
       "    </tr>\n",
       "  </tbody>\n",
       "</table>\n",
       "</div>"
      ],
      "text/plain": [
       "         mean     mean_se  mean_ci_lower  mean_ci_upper  obs_ci_lower  \\\n",
       "0 -119.697506  108.929769    -340.214295     100.819283   -394.684264   \n",
       "\n",
       "   obs_ci_upper  \n",
       "0    155.289251  "
      ]
     },
     "execution_count": 9,
     "metadata": {},
     "output_type": "execute_result"
    }
   ],
   "source": [
    "#creating new dataframe for state with 10% prop_license\n",
    "data_10 = [[0.1]]\n",
    "predict_consumption_10 = pd.DataFrame(data = data_10, columns = ['Prop_license'])\n",
    "\n",
    "#creating intervals for estimateed petrol consumtion and printing\n",
    "intervals_10 = model.get_prediction(predict_consumption_10)\n",
    "intervals_10.summary_frame(alpha=0.05)"
   ]
  },
  {
   "cell_type": "markdown",
   "id": "21876e00",
   "metadata": {},
   "source": [
    "According to the model, a state in which 10% of the population has a drivers license consumes an estimated -119.69 million gallons of petrol. This is an unreasonable estimate because it is impossible to have negative petrol consumption."
   ]
  },
  {
   "cell_type": "markdown",
   "id": "112c3de4",
   "metadata": {},
   "source": [
    "### \n",
    "What is the residual standard error of the model?\n",
    "\n",
    "*(4 points)*"
   ]
  },
  {
   "cell_type": "code",
   "execution_count": 10,
   "id": "62c1fb35",
   "metadata": {},
   "outputs": [
    {
     "data": {
      "text/plain": [
       "81.15342760294634"
      ]
     },
     "execution_count": 10,
     "metadata": {},
     "output_type": "execute_result"
    }
   ],
   "source": [
    "#calculating model's residual standard error\n",
    "np.sqrt(model.mse_resid)"
   ]
  },
  {
   "cell_type": "markdown",
   "id": "537743b3",
   "metadata": {},
   "source": [
    "The residual standard error of the model is approximately 81.15."
   ]
  },
  {
   "cell_type": "markdown",
   "id": "7f4ee6cd",
   "metadata": {},
   "source": [
    "### \n",
    "Using the model developed above, predict the petrol consumption for the observations in *petrol_consumption_test.csv*. Find the RMSE (Root mean squared error). Include the units of RMSE in your answer.\n",
    "\n",
    "*(5 points)*"
   ]
  },
  {
   "cell_type": "code",
   "execution_count": 11,
   "id": "032bda21",
   "metadata": {},
   "outputs": [
    {
     "data": {
      "text/plain": [
       "80.13903941152401"
      ]
     },
     "execution_count": 11,
     "metadata": {},
     "output_type": "execute_result"
    }
   ],
   "source": [
    "#reading in data\n",
    "petrol_test = pd.read_csv('petrol_consumption_test.csv')\n",
    "\n",
    "#saving petrol consumption observations for petrol_test\n",
    "petrol_test_predict = model.predict(petrol_test)\n",
    "\n",
    "#calculating RMSE\n",
    "np.sqrt(((petrol_test.Petrol_consumption - petrol_test_predict)**2).mean())"
   ]
  },
  {
   "cell_type": "markdown",
   "id": "9de8f33c",
   "metadata": {},
   "source": [
    "The RMSE is approximately 80.13 million gallons"
   ]
  },
  {
   "cell_type": "markdown",
   "id": "28011b87",
   "metadata": {},
   "source": [
    "### \n",
    "Based on the answers to the previous two questions, do you think the model is overfitting? Justify your answer.\n",
    "\n",
    "*(4 points)*"
   ]
  },
  {
   "cell_type": "markdown",
   "id": "b1ab8e33",
   "metadata": {},
   "source": [
    "The residual standard error on the training data and the RMSE on the test data are pretty close which implies that the model is not overfitting because the model performs similarly on known and unknown data."
   ]
  },
  {
   "cell_type": "markdown",
   "id": "2c986876",
   "metadata": {},
   "source": [
    "Make a scatterplot of `Petrol_consumption` vs `Prop_license` using *petrol_consumption_test.csv*. Over the scatterplot, plot the regression line, the prediction interval, and the confidence interval. Distinguish the regression line, prediction interval lines, and confidence interval lines with the following colors. Include the legend as well.\n",
    "\n",
    "- Regression line: red\n",
    "- Confidence interval lines: blue\n",
    "- Prediction interval lines: green\n",
    "\n",
    "*(4 points)*"
   ]
  },
  {
   "cell_type": "code",
   "execution_count": 27,
   "id": "ca510fbc",
   "metadata": {},
   "outputs": [
    {
     "data": {
      "text/plain": [
       "<matplotlib.legend.Legend at 0x7fbf18b4c400>"
      ]
     },
     "execution_count": 27,
     "metadata": {},
     "output_type": "execute_result"
    },
    {
     "data": {
      "image/png": "[encoded data removed]",
      "text/plain": [
       "<Figure size 640x480 with 1 Axes>"
      ]
     },
     "metadata": {},
     "output_type": "display_data"
    }
   ],
   "source": [
    "#calculating intervals\n",
    "intervals_test = model.get_prediction(petrol_test)\n",
    "interval_table = intervals_test.summary_frame(alpha=0.05)\n",
    "\n",
    "#creating scatterplot\n",
    "sns.scatterplot(data = petrol_test, x = 'Prop_license', y = 'Petrol_consumption')\n",
    "sns.lineplot(x = petrol_test.Prop_license, y = petrol_test_predict, color = 'red', errorbar = None)\n",
    "sns.lineplot(x = petrol_test.Prop_license, y = interval_table.mean_ci_lower, color = 'blue', errorbar = None)\n",
    "sns.lineplot(x = petrol_test.Prop_license, y = interval_table.mean_ci_upper, color = 'blue',label='_nolegend_', errorbar = None)\n",
    "sns.lineplot(x = petrol_test.Prop_license, y = interval_table.obs_ci_lower, color = 'green', errorbar = None)\n",
    "sns.lineplot(x = petrol_test.Prop_license, y = interval_table.obs_ci_upper, color = 'green', errorbar = None)\n",
    "plt.legend(labels=[\"Observations\",\"Regression line\",\"Confidence interval\", \"Prediction interval\"])"
   ]
  },
  {
   "cell_type": "markdown",
   "id": "2c044d6e",
   "metadata": {},
   "source": [
    "Among the confidence and prediction intervals, which interval is wider, and why?\n",
    "\n",
    "*(1+2 points)*"
   ]
  },
  {
   "cell_type": "markdown",
   "id": "a279224d",
   "metadata": {},
   "source": [
    "Prediction intervals are wider because they account for irreducible error in addition to reducible error while confidence intervals only take into account reducible error. In other words, prediction intervals must consider variation among individual observations while also accounting for not knowing the true population mean. Confidence intervals only have to account for uncertainty around the true mean. "
   ]
  },
  {
   "cell_type": "markdown",
   "id": "f6a1a96c",
   "metadata": {},
   "source": [
    "### \n",
    "Find the correlation between `Petrol_consumption` and the rest of the variables in *petrol_consumption_train.csv*. Based on the correlations, a simple linear regression model with which predictor will have the least R-squared value for predicting `Petrol_consumption`. Don't develop any linear regression models.\n",
    "\n",
    "*(4 points)*"
   ]
  },
  {
   "cell_type": "code",
   "execution_count": 34,
   "id": "e48a9054",
   "metadata": {},
   "outputs": [
    {
     "data": {
      "text/plain": [
       "Petrol_tax           -0.393415\n",
       "Per_capita_income    -0.314039\n",
       "Paved_highways        0.098117\n",
       "Prop_license          0.718303\n",
       "Petrol_consumption    1.000000\n",
       "dtype: float64"
      ]
     },
     "execution_count": 34,
     "metadata": {},
     "output_type": "execute_result"
    }
   ],
   "source": [
    "petrol.corrwith(petrol['Petrol_consumption'])"
   ]
  },
  {
   "cell_type": "markdown",
   "id": "c8a69cb5",
   "metadata": {},
   "source": [
    "The predictor Paved_highways will have the least R-squared value for predicting Petrol_consumption. This is because the low correlation between Paved_highways and Petrol_consumption suggests a weak relationship between the variables, meaning that RMSE would be low because not much of the variation in Petrol_consumption could be attributed to this weak relationship."
   ]
  },
  {
   "cell_type": "markdown",
   "id": "28c213fd",
   "metadata": {},
   "source": [
    "**Bonus point question**\n",
    "\n",
    "*(5 points - no partial credit)*"
   ]
  },
  {
   "cell_type": "markdown",
   "id": "450a9c7f",
   "metadata": {},
   "source": [
    "### \n",
    "Fit a simple linear regression model to predict `Petrol_consumption` based on predictor *P*, but without an intercept term.\n",
    "\n",
    "*(you must answer this correctly to qualify for earning bonus points)*"
   ]
  },
  {
   "cell_type": "code",
   "execution_count": null,
   "id": "58e711f9",
   "metadata": {},
   "outputs": [],
   "source": [
    "x = 5\n",
    "y = 10\n",
    "print(x + y)"
   ]
  },
  {
   "cell_type": "markdown",
   "id": "0c1ba0bb",
   "metadata": {},
   "source": [
    "Kiara made a change"
   ]
  },
  {
   "cell_type": "markdown",
   "id": "096f50c1",
   "metadata": {},
   "source": [
    "Kiara made another change"
   ]
  },
  {
   "cell_type": "markdown",
   "id": "a4150a97",
   "metadata": {},
   "source": [
    "Kiara tryna push a change through terminal"
   ]
  },
  {
   "cell_type": "markdown",
   "id": "be041d59",
   "metadata": {},
   "source": [
    "### \n",
    "Estimate the petrol consumption for the observations in *petrol_consumption_test.csv* using the model in developed in the previous question. Find the RMSE.\n",
    "\n",
    "*(you must answer this correctly to qualify for earning bonus points)*"
   ]
  },
  {
   "cell_type": "markdown",
   "id": "461fac34",
   "metadata": {},
   "source": [
    "### \n",
    "The RMSE for the models with and without the intercept are similar, which indicates that both models are almost equally good. However, the R-squared for the model without intercept is much higher than the R-squared for the model with the intercept. Why? Justify your answer.\n",
    "\n",
    "*(5 points)*"
   ]
  }
 ],
 "metadata": {
  "kernelspec": {
   "display_name": "Python 3 (ipykernel)",
   "language": "python",
   "name": "python3"
  },
  "language_info": {
   "codemirror_mode": {
    "name": "ipython",
    "version": 3
   },
   "file_extension": ".py",
   "mimetype": "text/x-python",
   "name": "python",
   "nbconvert_exporter": "python",
   "pygments_lexer": "ipython3",
   "version": "3.9.15"
  }
 },
 "nbformat": 4,
 "nbformat_minor": 5
}
